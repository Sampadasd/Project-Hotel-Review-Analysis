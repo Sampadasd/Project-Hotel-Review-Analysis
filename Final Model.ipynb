{
 "cells": [
  {
   "cell_type": "code",
   "execution_count": 1,
   "id": "434bc6b7",
   "metadata": {},
   "outputs": [],
   "source": [
    "from sklearn.linear_model import LogisticRegression\n",
    "import pandas as pd\n",
    "from sklearn.metrics import accuracy_score,classification_report,confusion_matrix\n",
    "from sklearn.feature_extraction.text import CountVectorizer,TfidfVectorizer\n",
    "from sklearn.model_selection import train_test_split\n",
    "from pickle import dump\n",
    "import warnings\n",
    "warnings.filterwarnings('ignore')"
   ]
  },
  {
   "cell_type": "code",
   "execution_count": 2,
   "id": "ad8689b1",
   "metadata": {},
   "outputs": [
    {
     "data": {
      "text/html": [
       "<div>\n",
       "<style scoped>\n",
       "    .dataframe tbody tr th:only-of-type {\n",
       "        vertical-align: middle;\n",
       "    }\n",
       "\n",
       "    .dataframe tbody tr th {\n",
       "        vertical-align: top;\n",
       "    }\n",
       "\n",
       "    .dataframe thead th {\n",
       "        text-align: right;\n",
       "    }\n",
       "</style>\n",
       "<table border=\"1\" class=\"dataframe\">\n",
       "  <thead>\n",
       "    <tr style=\"text-align: right;\">\n",
       "      <th></th>\n",
       "      <th>Clean_Review</th>\n",
       "      <th>Rating</th>\n",
       "      <th>Number of Characters</th>\n",
       "      <th>Rating_Analysis</th>\n",
       "    </tr>\n",
       "  </thead>\n",
       "  <tbody>\n",
       "    <tr>\n",
       "      <th>0</th>\n",
       "      <td>expensive park get deal anniversary arrive lat...</td>\n",
       "      <td>4</td>\n",
       "      <td>427</td>\n",
       "      <td>Positive</td>\n",
       "    </tr>\n",
       "    <tr>\n",
       "      <th>1</th>\n",
       "      <td>ok nothing special charge diamond member hilto...</td>\n",
       "      <td>2</td>\n",
       "      <td>1408</td>\n",
       "      <td>Negative</td>\n",
       "    </tr>\n",
       "    <tr>\n",
       "      <th>2</th>\n",
       "      <td>experience monaco seattle levelpositives large...</td>\n",
       "      <td>3</td>\n",
       "      <td>1147</td>\n",
       "      <td>Positive</td>\n",
       "    </tr>\n",
       "    <tr>\n",
       "      <th>3</th>\n",
       "      <td>unique wonderful time monaco excellent short s...</td>\n",
       "      <td>5</td>\n",
       "      <td>456</td>\n",
       "      <td>Positive</td>\n",
       "    </tr>\n",
       "    <tr>\n",
       "      <th>4</th>\n",
       "      <td>go seahawk game awesome downfall view build co...</td>\n",
       "      <td>5</td>\n",
       "      <td>1028</td>\n",
       "      <td>Positive</td>\n",
       "    </tr>\n",
       "    <tr>\n",
       "      <th>...</th>\n",
       "      <td>...</td>\n",
       "      <td>...</td>\n",
       "      <td>...</td>\n",
       "      <td>...</td>\n",
       "    </tr>\n",
       "    <tr>\n",
       "      <th>20486</th>\n",
       "      <td>best keep secret rd time stay charm star ca be...</td>\n",
       "      <td>5</td>\n",
       "      <td>635</td>\n",
       "      <td>Positive</td>\n",
       "    </tr>\n",
       "    <tr>\n",
       "      <th>20487</th>\n",
       "      <td>price view quick place sightsdirectly street s...</td>\n",
       "      <td>4</td>\n",
       "      <td>240</td>\n",
       "      <td>Positive</td>\n",
       "    </tr>\n",
       "    <tr>\n",
       "      <th>20488</th>\n",
       "      <td>ok look modern outside desk particularly frien...</td>\n",
       "      <td>2</td>\n",
       "      <td>356</td>\n",
       "      <td>Negative</td>\n",
       "    </tr>\n",
       "    <tr>\n",
       "      <th>20489</th>\n",
       "      <td>theft ruin vacation open sept guests week happ...</td>\n",
       "      <td>1</td>\n",
       "      <td>4517</td>\n",
       "      <td>Negative</td>\n",
       "    </tr>\n",
       "    <tr>\n",
       "      <th>20490</th>\n",
       "      <td>people talk ca believe excellent rat yes patri...</td>\n",
       "      <td>2</td>\n",
       "      <td>512</td>\n",
       "      <td>Negative</td>\n",
       "    </tr>\n",
       "  </tbody>\n",
       "</table>\n",
       "<p>20491 rows × 4 columns</p>\n",
       "</div>"
      ],
      "text/plain": [
       "                                            Clean_Review  Rating  \\\n",
       "0      expensive park get deal anniversary arrive lat...       4   \n",
       "1      ok nothing special charge diamond member hilto...       2   \n",
       "2      experience monaco seattle levelpositives large...       3   \n",
       "3      unique wonderful time monaco excellent short s...       5   \n",
       "4      go seahawk game awesome downfall view build co...       5   \n",
       "...                                                  ...     ...   \n",
       "20486  best keep secret rd time stay charm star ca be...       5   \n",
       "20487  price view quick place sightsdirectly street s...       4   \n",
       "20488  ok look modern outside desk particularly frien...       2   \n",
       "20489  theft ruin vacation open sept guests week happ...       1   \n",
       "20490  people talk ca believe excellent rat yes patri...       2   \n",
       "\n",
       "       Number of Characters Rating_Analysis  \n",
       "0                       427        Positive  \n",
       "1                      1408        Negative  \n",
       "2                      1147        Positive  \n",
       "3                       456        Positive  \n",
       "4                      1028        Positive  \n",
       "...                     ...             ...  \n",
       "20486                   635        Positive  \n",
       "20487                   240        Positive  \n",
       "20488                   356        Negative  \n",
       "20489                  4517        Negative  \n",
       "20490                   512        Negative  \n",
       "\n",
       "[20491 rows x 4 columns]"
      ]
     },
     "execution_count": 2,
     "metadata": {},
     "output_type": "execute_result"
    }
   ],
   "source": [
    "data=pd.read_csv('review_rating_1.csv',index_col=[0])\n",
    "data"
   ]
  },
  {
   "cell_type": "code",
   "execution_count": 3,
   "id": "bdfc823b",
   "metadata": {},
   "outputs": [
    {
     "data": {
      "text/html": [
       "<div>\n",
       "<style scoped>\n",
       "    .dataframe tbody tr th:only-of-type {\n",
       "        vertical-align: middle;\n",
       "    }\n",
       "\n",
       "    .dataframe tbody tr th {\n",
       "        vertical-align: top;\n",
       "    }\n",
       "\n",
       "    .dataframe thead th {\n",
       "        text-align: right;\n",
       "    }\n",
       "</style>\n",
       "<table border=\"1\" class=\"dataframe\">\n",
       "  <thead>\n",
       "    <tr style=\"text-align: right;\">\n",
       "      <th></th>\n",
       "      <th>Clean_Review</th>\n",
       "      <th>Rating</th>\n",
       "      <th>Number of Characters</th>\n",
       "      <th>Rating_Analysis</th>\n",
       "    </tr>\n",
       "  </thead>\n",
       "  <tbody>\n",
       "    <tr>\n",
       "      <th>0</th>\n",
       "      <td>expensive park get deal anniversary arrive lat...</td>\n",
       "      <td>4</td>\n",
       "      <td>427</td>\n",
       "      <td>1</td>\n",
       "    </tr>\n",
       "    <tr>\n",
       "      <th>1</th>\n",
       "      <td>ok nothing special charge diamond member hilto...</td>\n",
       "      <td>2</td>\n",
       "      <td>1408</td>\n",
       "      <td>-1</td>\n",
       "    </tr>\n",
       "    <tr>\n",
       "      <th>2</th>\n",
       "      <td>experience monaco seattle levelpositives large...</td>\n",
       "      <td>3</td>\n",
       "      <td>1147</td>\n",
       "      <td>1</td>\n",
       "    </tr>\n",
       "    <tr>\n",
       "      <th>3</th>\n",
       "      <td>unique wonderful time monaco excellent short s...</td>\n",
       "      <td>5</td>\n",
       "      <td>456</td>\n",
       "      <td>1</td>\n",
       "    </tr>\n",
       "    <tr>\n",
       "      <th>4</th>\n",
       "      <td>go seahawk game awesome downfall view build co...</td>\n",
       "      <td>5</td>\n",
       "      <td>1028</td>\n",
       "      <td>1</td>\n",
       "    </tr>\n",
       "    <tr>\n",
       "      <th>...</th>\n",
       "      <td>...</td>\n",
       "      <td>...</td>\n",
       "      <td>...</td>\n",
       "      <td>...</td>\n",
       "    </tr>\n",
       "    <tr>\n",
       "      <th>20486</th>\n",
       "      <td>best keep secret rd time stay charm star ca be...</td>\n",
       "      <td>5</td>\n",
       "      <td>635</td>\n",
       "      <td>1</td>\n",
       "    </tr>\n",
       "    <tr>\n",
       "      <th>20487</th>\n",
       "      <td>price view quick place sightsdirectly street s...</td>\n",
       "      <td>4</td>\n",
       "      <td>240</td>\n",
       "      <td>1</td>\n",
       "    </tr>\n",
       "    <tr>\n",
       "      <th>20488</th>\n",
       "      <td>ok look modern outside desk particularly frien...</td>\n",
       "      <td>2</td>\n",
       "      <td>356</td>\n",
       "      <td>-1</td>\n",
       "    </tr>\n",
       "    <tr>\n",
       "      <th>20489</th>\n",
       "      <td>theft ruin vacation open sept guests week happ...</td>\n",
       "      <td>1</td>\n",
       "      <td>4517</td>\n",
       "      <td>-1</td>\n",
       "    </tr>\n",
       "    <tr>\n",
       "      <th>20490</th>\n",
       "      <td>people talk ca believe excellent rat yes patri...</td>\n",
       "      <td>2</td>\n",
       "      <td>512</td>\n",
       "      <td>-1</td>\n",
       "    </tr>\n",
       "  </tbody>\n",
       "</table>\n",
       "<p>20491 rows × 4 columns</p>\n",
       "</div>"
      ],
      "text/plain": [
       "                                            Clean_Review  Rating  \\\n",
       "0      expensive park get deal anniversary arrive lat...       4   \n",
       "1      ok nothing special charge diamond member hilto...       2   \n",
       "2      experience monaco seattle levelpositives large...       3   \n",
       "3      unique wonderful time monaco excellent short s...       5   \n",
       "4      go seahawk game awesome downfall view build co...       5   \n",
       "...                                                  ...     ...   \n",
       "20486  best keep secret rd time stay charm star ca be...       5   \n",
       "20487  price view quick place sightsdirectly street s...       4   \n",
       "20488  ok look modern outside desk particularly frien...       2   \n",
       "20489  theft ruin vacation open sept guests week happ...       1   \n",
       "20490  people talk ca believe excellent rat yes patri...       2   \n",
       "\n",
       "       Number of Characters  Rating_Analysis  \n",
       "0                       427                1  \n",
       "1                      1408               -1  \n",
       "2                      1147                1  \n",
       "3                       456                1  \n",
       "4                      1028                1  \n",
       "...                     ...              ...  \n",
       "20486                   635                1  \n",
       "20487                   240                1  \n",
       "20488                   356               -1  \n",
       "20489                  4517               -1  \n",
       "20490                   512               -1  \n",
       "\n",
       "[20491 rows x 4 columns]"
      ]
     },
     "execution_count": 3,
     "metadata": {},
     "output_type": "execute_result"
    }
   ],
   "source": [
    "data['Rating_Analysis'] = data['Rating_Analysis'].replace({'Negative': -1})\n",
    "data['Rating_Analysis'] = data['Rating_Analysis'].replace({'Positive': 1})\n",
    "data['Rating_Analysis'] = data['Rating_Analysis'].replace({'Neutral': 0})\n",
    "data"
   ]
  },
  {
   "cell_type": "markdown",
   "id": "31dbc9c2",
   "metadata": {},
   "source": [
    "## TF-ID Vectorizer"
   ]
  },
  {
   "cell_type": "code",
   "execution_count": 5,
   "id": "63ef3a62",
   "metadata": {},
   "outputs": [],
   "source": [
    "count=TfidfVectorizer()\n",
    "x_train_df=count.fit(data['Clean_Review'])"
   ]
  },
  {
   "cell_type": "code",
   "execution_count": 6,
   "id": "c0196be3",
   "metadata": {},
   "outputs": [],
   "source": [
    "x_train=x_train_df.transform(data['Clean_Review'])"
   ]
  },
  {
   "cell_type": "code",
   "execution_count": 7,
   "id": "8031bc66",
   "metadata": {},
   "outputs": [],
   "source": [
    "X_train,X_test,y_train,y_test=train_test_split(x_train,data['Rating_Analysis'],shuffle=True,random_state=30,test_size=0.3)"
   ]
  },
  {
   "cell_type": "code",
   "execution_count": 8,
   "id": "f772fd3d",
   "metadata": {},
   "outputs": [
    {
     "name": "stdout",
     "output_type": "stream",
     "text": [
      "(14343, 69689) (6148, 69689) (14343,) (6148,)\n"
     ]
    }
   ],
   "source": [
    "print(X_train.shape,X_test.shape,y_train.shape,y_test.shape)"
   ]
  },
  {
   "cell_type": "code",
   "execution_count": 9,
   "id": "094d39e3",
   "metadata": {},
   "outputs": [],
   "source": [
    "def Accuracy(y_train,y_train_pred,y_test,y_test_pred):\n",
    "    print('Train Accuracy\\n')\n",
    "    print(classification_report(y_train,y_train_pred))\n",
    "    print('\\n',confusion_matrix(y_train,y_train_pred))\n",
    "    print('\\n',accuracy_score(y_train,y_train_pred))\n",
    "    print('*'*100)\n",
    "    print('Test Accuracy\\n')\n",
    "    print(classification_report(y_test,y_test_pred))\n",
    "    print('\\n',confusion_matrix(y_test,y_test_pred))\n",
    "    print('\\n',accuracy_score(y_test,y_test_pred)) "
   ]
  },
  {
   "cell_type": "markdown",
   "id": "9826826c",
   "metadata": {},
   "source": [
    "## Final model "
   ]
  },
  {
   "cell_type": "code",
   "execution_count": 10,
   "id": "ee71c159",
   "metadata": {},
   "outputs": [],
   "source": [
    "from lightgbm import LGBMClassifier"
   ]
  },
  {
   "cell_type": "code",
   "execution_count": 11,
   "id": "140614ed",
   "metadata": {},
   "outputs": [],
   "source": [
    "LGBM = LGBMClassifier()"
   ]
  },
  {
   "cell_type": "code",
   "execution_count": 12,
   "id": "bc2acae5",
   "metadata": {},
   "outputs": [
    {
     "data": {
      "text/plain": [
       "LGBMClassifier()"
      ]
     },
     "execution_count": 12,
     "metadata": {},
     "output_type": "execute_result"
    }
   ],
   "source": [
    "LGBM.fit(X_train, y_train)"
   ]
  },
  {
   "cell_type": "code",
   "execution_count": 13,
   "id": "b8783fed",
   "metadata": {},
   "outputs": [],
   "source": [
    "LGBM_train=LGBM.predict(X_train)\n",
    "LGBM_test=LGBM.predict(X_test)"
   ]
  },
  {
   "cell_type": "code",
   "execution_count": 14,
   "id": "0d6fa643",
   "metadata": {},
   "outputs": [
    {
     "name": "stdout",
     "output_type": "stream",
     "text": [
      "Train Accuracy\n",
      "\n",
      "              precision    recall  f1-score   support\n",
      "\n",
      "          -1       0.92      0.98      0.95      2113\n",
      "           1       1.00      0.98      0.99     12230\n",
      "\n",
      "    accuracy                           0.98     14343\n",
      "   macro avg       0.96      0.98      0.97     14343\n",
      "weighted avg       0.98      0.98      0.98     14343\n",
      "\n",
      "\n",
      " [[ 2063    50]\n",
      " [  184 12046]]\n",
      "\n",
      " 0.9836854214599456\n",
      "****************************************************************************************************\n",
      "Test Accuracy\n",
      "\n",
      "              precision    recall  f1-score   support\n",
      "\n",
      "          -1       0.58      0.82      0.68       693\n",
      "           1       0.98      0.93      0.95      5455\n",
      "\n",
      "    accuracy                           0.91      6148\n",
      "   macro avg       0.78      0.87      0.82      6148\n",
      "weighted avg       0.93      0.91      0.92      6148\n",
      "\n",
      "\n",
      " [[ 565  128]\n",
      " [ 402 5053]]\n",
      "\n",
      " 0.9137931034482759\n"
     ]
    }
   ],
   "source": [
    "LGBM_model=Accuracy(LGBM_train,y_train,LGBM_test,y_test)\n",
    "LGBM_model"
   ]
  },
  {
   "cell_type": "markdown",
   "id": "f5548cf4",
   "metadata": {},
   "source": [
    "## deployment"
   ]
  },
  {
   "cell_type": "code",
   "execution_count": 15,
   "id": "c9104d30",
   "metadata": {},
   "outputs": [],
   "source": [
    "# build the intelligence for tfid Vectorizer \n",
    "x=data['Clean_Review']\n",
    "y=data['Rating_Analysis']"
   ]
  },
  {
   "cell_type": "code",
   "execution_count": 16,
   "id": "6287dcc3",
   "metadata": {},
   "outputs": [],
   "source": [
    "tfid=TfidfVectorizer()\n",
    "tfid_deploy=tfid.fit(x)"
   ]
  },
  {
   "cell_type": "code",
   "execution_count": 17,
   "id": "7d149e43",
   "metadata": {},
   "outputs": [],
   "source": [
    "# converting text into numeric for svm\n",
    "x_train=tfid_deploy.transform(x)"
   ]
  },
  {
   "cell_type": "code",
   "execution_count": 18,
   "id": "65874fba",
   "metadata": {},
   "outputs": [
    {
     "data": {
      "text/plain": [
       "LGBMClassifier()"
      ]
     },
     "execution_count": 18,
     "metadata": {},
     "output_type": "execute_result"
    }
   ],
   "source": [
    "LGBM_model_deploy=LGBMClassifier()\n",
    "LGBM_model_deploy.fit(x_train,y)"
   ]
  },
  {
   "cell_type": "code",
   "execution_count": 19,
   "id": "17bc9e8a",
   "metadata": {},
   "outputs": [],
   "source": [
    "#saving svm n tfid into pkl\n",
    "dump(obj=LGBM_model_deploy,file=open('LGBM_model_deploy.pkl','wb'))\n",
    "dump(obj=tfid_deploy,file=open('tfid_deploy.pkl','wb'))"
   ]
  },
  {
   "cell_type": "code",
   "execution_count": null,
   "id": "851162ba",
   "metadata": {},
   "outputs": [],
   "source": []
  }
 ],
 "metadata": {
  "kernelspec": {
   "display_name": "Python 3 (ipykernel)",
   "language": "python",
   "name": "python3"
  },
  "language_info": {
   "codemirror_mode": {
    "name": "ipython",
    "version": 3
   },
   "file_extension": ".py",
   "mimetype": "text/x-python",
   "name": "python",
   "nbconvert_exporter": "python",
   "pygments_lexer": "ipython3",
   "version": "3.9.15"
  }
 },
 "nbformat": 4,
 "nbformat_minor": 5
}
